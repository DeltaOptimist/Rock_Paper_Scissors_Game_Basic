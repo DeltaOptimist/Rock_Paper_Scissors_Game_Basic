{
  "nbformat": 4,
  "nbformat_minor": 0,
  "metadata": {
    "colab": {
      "name": "Rock_Paper_Scissors_Game.ipynb",
      "provenance": []
    },
    "kernelspec": {
      "name": "python3",
      "display_name": "Python 3"
    },
    "language_info": {
      "name": "python"
    }
  },
  "cells": [
    {
      "cell_type": "code",
      "execution_count": 4,
      "metadata": {
        "colab": {
          "base_uri": "https://localhost:8080/"
        },
        "id": "FzTYIa2ATlzv",
        "outputId": "25d01ee5-837a-4ed6-84c6-009a563d67fe"
      },
      "outputs": [
        {
          "output_type": "stream",
          "name": "stdout",
          "text": [
            "Select Rock, Paper, or Scissor :Paper\n",
            "Player 2 selected:  scissor\n",
            "Player 2 Won\n"
          ]
        }
      ],
      "source": [
        "import random\n",
        "\n",
        "player1 = input(\"Select Rock, Paper, or Scissor :\").lower()\n",
        "player2 = random.choice([\"Rock\", \"Paper\", \"Scissor\"]).lower()\n",
        "print(\"Player 2 selected: \", player2)\n",
        "\n",
        "#decision logic\n",
        "\n",
        "if player1 == \"rock\" and player2 == \"paper\":\n",
        "    print(\"Player 2 Won\")\n",
        "elif player1 == \"paper\" and player2 == \"scissor\":\n",
        "    print(\"Player 2 Won\")\n",
        "elif player1 == \"scissor\" and player2 == \"rock\":\n",
        "    print(\"Player 2 Won\")\n",
        "elif player1 == player2:\n",
        "    print(\"Tie\")\n",
        "else:\n",
        "  print(\"Player 1 Won\")"
      ]
    },
    {
      "cell_type": "code",
      "source": [
        ""
      ],
      "metadata": {
        "id": "4_DTHatOT1eu"
      },
      "execution_count": null,
      "outputs": []
    }
  ]
}